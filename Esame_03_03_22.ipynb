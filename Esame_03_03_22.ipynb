{
 "cells": [
  {
   "cell_type": "markdown",
   "metadata": {},
   "source": [
    "# Esame Informatica\n",
    "## Prof. Acampora Giovanni\n",
    "___\n",
    "### 03/03/2022\n",
    "___"
   ]
  },
  {
   "cell_type": "markdown",
   "metadata": {},
   "source": [
    "### Esercizio 1 [ 8 Punti ] \n",
    "\n",
    "Scrivere una funzione Python che prenda in input una stringa l1 di caratteri. La funzione restituisce True se la stringa l1 è palindroma, ossia può essere letta da sinistra a destra e viceversa senza cambiare significato. Se la stringa l1 in input contiene un numero da 0 a 9 bisogna lanciare un’eccezione. Infine scrivere un breve main che legga una stringa e stampi a video se la stringa è palindroma."
   ]
  },
  {
   "cell_type": "code",
   "execution_count": null,
   "metadata": {},
   "outputs": [],
   "source": []
  },
  {
   "cell_type": "markdown",
   "metadata": {},
   "source": [
    "### Esercizio 2 [ 12 Punti ]\n",
    "\n",
    "Scrivere il programma Python che permette di definire una classe “Tempo”. I metodi della classe “Tempo” permettono di:\n",
    "-\tinizializzare un oggetto della classe “Tempo” con “ore” e “minuti”;\n",
    "-\trestituire in una stringa le ore e i minuti;\n",
    "-\trestituire il tempo in termini unicamente di minuti;\n",
    "-\tsommare le ore e i minuti con le ore e i minuti di un altro oggetto della classe “Tempo”.\n",
    "\n",
    "Scrivere, inoltre, un breve main che mostri il funzionamento dei metodi definiti.\n",
    "\n"
   ]
  },
  {
   "cell_type": "code",
   "execution_count": null,
   "metadata": {},
   "outputs": [],
   "source": []
  },
  {
   "cell_type": "markdown",
   "metadata": {},
   "source": [
    "### Esercizio 3 [ 10 Punti ]\n",
    "\n",
    "Scrivere il programma che:\n",
    "\n",
    "-\tlegge il contenuto del file “data.txt”. Il file “data.txt” contiene due colonne di numeri reali. Ogni riga del file rappresenta un punto: la prima colonna è l’ascissa e la seconda colonna è l’ordinata.  \n",
    "-\tvisualizza i punti in uno scatter plot;\n",
    "-\tcalcola il baricentro geometrico dei punti, ossia il punto le cui coordinate sono date dalla media aritmetica delle rispettive coordinate dei punti, e lo visualizza sul plot con il colore rosso e con il simbolo “*”."
   ]
  },
  {
   "cell_type": "code",
   "execution_count": null,
   "metadata": {},
   "outputs": [],
   "source": []
  }
 ],
 "metadata": {
  "kernelspec": {
   "display_name": "quantum",
   "language": "python",
   "name": "quantum"
  },
  "language_info": {
   "codemirror_mode": {
    "name": "ipython",
    "version": 3
   },
   "file_extension": ".py",
   "mimetype": "text/x-python",
   "name": "python",
   "nbconvert_exporter": "python",
   "pygments_lexer": "ipython3",
   "version": "3.7.6"
  }
 },
 "nbformat": 4,
 "nbformat_minor": 4
}
