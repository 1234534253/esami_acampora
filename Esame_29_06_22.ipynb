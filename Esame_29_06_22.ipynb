{
 "cells": [
  {
   "cell_type": "markdown",
   "metadata": {},
   "source": [
    "# Esame Informatica\n",
    "## Prof. Acampora Giovanni\n",
    "___\n",
    "### 29/06/2022\n",
    "___"
   ]
  },
  {
   "cell_type": "markdown",
   "metadata": {},
   "source": [
    "### Esercizio 1 [ 8 Punti ] \n",
    "\n",
    "Scrivere una funzione Python “LeggiMatrice” che legge da tastiera una matrice T di dimensione NxM. Se durante l’inserimento l’utente inserisce una vocale o una consonante bisogna lanciare un’eccezione. Inoltre, scrivere una funzione Python “Trasposta” che data una matrice in input T restituisce la sua trasposta. Infine, scrivere un breve main che legge M e N da tastiera, crea una matrice T usando la funzione “LeggiMatrice” e stampi a video la sua trasposta."
   ]
  },
  {
   "cell_type": "code",
   "execution_count": null,
   "metadata": {},
   "outputs": [],
   "source": []
  },
  {
   "cell_type": "markdown",
   "metadata": {},
   "source": [
    "### Esercizio 2 [ 12 Punti ] \n",
    "Scrivere il programma Python che permetta di definire una classe “Articolo”. La classe “Articolo” ha i seguenti attributi: titolo, testo, tipologia (di default è la stringa “Scientifico”), lista di parole chiavi (vuota all’atto dell’inizializzazione). I metodi della classe “Articolo” permettono di: \n",
    "\n",
    "   - inizializzare un oggetto della classe “Articolo” con i suoi attributi; \n",
    "\n",
    "   - restituire in una stringa le informazioni relative ad un oggetto “Articolo”; \n",
    "\n",
    "   - inserire la lista di parole chiavi (l’utente può inserire una parola chiave fino a quando non inserisce la parola “fine”); \n",
    "\n",
    "   - comparare la lista di parole chiavi con quella di un altro oggetto della classe “Articolo” e restituire True se i due oggetti hanno una parola chiave in comune. \n",
    "\n",
    "Scrivere, inoltre, un breve main che mostri il funzionamento dei metodi definiti. \n",
    "\n",
    " "
   ]
  },
  {
   "cell_type": "code",
   "execution_count": null,
   "metadata": {},
   "outputs": [],
   "source": []
  },
  {
   "cell_type": "markdown",
   "metadata": {},
   "source": [
    "### Esercizio 3 [ 10 Punti ] \n",
    "Scrivere il programma che: \n",
    "\n",
    "- legge il contenuto del file “data.txt”. Il file “data.txt” contiene due colonne di numeri reali. Ogni riga del file rappresenta un punto: la prima colonna è l’ascissa e la seconda colonna è l’ordinata.   \n",
    "\n",
    "- visualizza i punti in uno scatter plot con due diversi colori. In particolare, visualizza in verde i punti di cui la differenza tra ascissa e ordinata è minore di 5 e in blu tutti gli altri; \n",
    "\n",
    "- visualizza sul plot con il simbolo “*” il punto medio dei punti verdi e con il simbolo “+” il punto medio dei punti blu."
   ]
  },
  {
   "cell_type": "code",
   "execution_count": null,
   "metadata": {},
   "outputs": [],
   "source": []
  }
 ],
 "metadata": {
  "kernelspec": {
   "display_name": "Python 3",
   "language": "python",
   "name": "python3"
  },
  "language_info": {
   "codemirror_mode": {
    "name": "ipython",
    "version": 3
   },
   "file_extension": ".py",
   "mimetype": "text/x-python",
   "name": "python",
   "nbconvert_exporter": "python",
   "pygments_lexer": "ipython3",
   "version": "3.7.6"
  }
 },
 "nbformat": 4,
 "nbformat_minor": 4
}
