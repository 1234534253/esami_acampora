{
 "cells": [
  {
   "cell_type": "markdown",
   "metadata": {},
   "source": [
    "# Esame Informatica\n",
    "## Prof. Acampora Giovanni\n",
    "___\n",
    "### 17/01/2022\n",
    "___"
   ]
  },
  {
   "cell_type": "markdown",
   "metadata": {},
   "source": [
    "### Esercizio 1 [ 8 Punti ] \n",
    "\n",
    "Scrivere una funzione Python che prenda in input una stringa l1 di caratteri. La funzione restituisce l’elenco delle consonanti contenute nella stringa e la relativa frequenza. Se la stringa l1 in input contiene una vocale o uno spazio bisogna lanciare un’eccezione. Infine, scrivere un breve main che legga una stringa e stampi a video ogni consonante della stringa con la relativa frequenza."
   ]
  },
  {
   "cell_type": "code",
   "execution_count": null,
   "metadata": {},
   "outputs": [],
   "source": []
  },
  {
   "cell_type": "markdown",
   "metadata": {},
   "source": [
    "### Esercizio 2 [ 12 Punti ] \n",
    "\n",
    "Scrivere il programma Python che permette di definire una classe “Tempo”. I metodi della classe “Tempo” permettono di:\n",
    "-\tinizializzare un oggetto della classe “Tempo” con “ore” e “minuti”;\n",
    "-\trestituire in una stringa le ore e i minuti;\n",
    "-\trestituire il tempo in termini unicamente di minuti;\n",
    "-\tsommare le ore e i minuti con le ore e i minuti di un altro oggetto della classe “Tempo”.\n",
    "\n",
    "Scrivere, inoltre, un breve main che mostri il funzionamento dei metodi definiti.\n",
    "\n"
   ]
  },
  {
   "cell_type": "code",
   "execution_count": null,
   "metadata": {},
   "outputs": [],
   "source": []
  },
  {
   "cell_type": "markdown",
   "metadata": {},
   "source": [
    "### Esercizio 3 [ 10 Punti ] \n",
    "\n",
    "Scrivere il programma che:\n",
    "-\tlegge il contenuto del file “data.txt”. Il file “data.txt” contiene quattro colonne di numeri reali. Ogni riga del file rappresenta due punti: la prima colonna e la seconda sono rispettivamente l’ascissa e l’ordinata del primo punto, mentre, la terza e la quarta colonna sono rispettivamente l’ascissa e l’ordinata del secondo punto.  I numeri sono separati da virgola.\n",
    "-\tVisualizzare, in uno scatter plot, i punti del primo insieme (quelli con ascissa e ordinata nella prima e seconda colonna) in blu e quelli del secondo insieme (con ascissa e ordinata nella terza e quarta colonna) in verde;\n",
    "-\tcalcola i baricentri geometrici dei due insiemi di punti e li visualizza sul plot con il colore rosso e con il simbolo “*”. NOTA: il baricentro è il punto le cui coordinate sono date dalla media aritmetica delle rispettive coordinate dei punti.\n",
    "\n"
   ]
  },
  {
   "cell_type": "code",
   "execution_count": null,
   "metadata": {},
   "outputs": [],
   "source": []
  }
 ],
 "metadata": {
  "kernelspec": {
   "display_name": "quantum",
   "language": "python",
   "name": "quantum"
  },
  "language_info": {
   "codemirror_mode": {
    "name": "ipython",
    "version": 3
   },
   "file_extension": ".py",
   "mimetype": "text/x-python",
   "name": "python",
   "nbconvert_exporter": "python",
   "pygments_lexer": "ipython3",
   "version": "3.7.6"
  }
 },
 "nbformat": 4,
 "nbformat_minor": 4
}
